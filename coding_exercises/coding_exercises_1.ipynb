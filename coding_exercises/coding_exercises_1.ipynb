{
 "cells": [
  {
   "cell_type": "markdown",
   "metadata": {},
   "source": [
    "# How to Insert a Node in the Binary Search Tree?\n",
    "https://www.scaler.com/topics/binary-search-tree-python/"
   ]
  },
  {
   "cell_type": "code",
   "execution_count": 390,
   "metadata": {},
   "outputs": [
    {
     "name": "stdout",
     "output_type": "stream",
     "text": [
      "20\n",
      "30\n",
      "40\n",
      "50\n",
      "60\n",
      "70\n",
      "80\n"
     ]
    }
   ],
   "source": [
    "# A class that represents the individual node in a BST.\n",
    "class TreeNode:\n",
    "    def __init__(self, key):\n",
    "        self.key = key\n",
    "        self.l = None\n",
    "        self.r = None\n",
    "\n",
    "# Function to insert a new node with the given key.\n",
    "def new_key_insert(root, new_key):\n",
    "    if root is None:\n",
    "        root = TreeNode(new_key)\n",
    "        return root\n",
    "    if new_key < root.key:\n",
    "        root.l = new_key_insert(root.l, new_key)\n",
    "    else:\n",
    "        root.r = new_key_insert(root.r, new_key)\n",
    "    return root\n",
    "\n",
    "# Function to display the output of the tree\n",
    "def display(root):\n",
    "    if root:\n",
    "        display(root.l)\n",
    "        print(root.key)\n",
    "        display(root.r)\n",
    "\n",
    "\n",
    "r = TreeNode(50)\n",
    "r = new_key_insert(r, 30)\n",
    "r = new_key_insert(r, 20)\n",
    "r = new_key_insert(r, 40)\n",
    "r = new_key_insert(r, 70)\n",
    "r = new_key_insert(r, 60)\n",
    "r = new_key_insert(r, 80)\n",
    "\n",
    "display(r)\n"
   ]
  },
  {
   "cell_type": "markdown",
   "metadata": {},
   "source": [
    "# Fibonacci Sequence"
   ]
  },
  {
   "cell_type": "code",
   "execution_count": 392,
   "metadata": {},
   "outputs": [],
   "source": [
    "import numpy as np"
   ]
  },
  {
   "cell_type": "code",
   "execution_count": 393,
   "metadata": {},
   "outputs": [],
   "source": [
    "fibonacci_array = [0,1,1]\n",
    "for n in range(3,100):\n",
    "    # fibonacci_array = [0,1,1]\n",
    "    # print(n)\n",
    "    new_value = fibonacci_array[n-1]  + fibonacci_array[n-2] \n",
    "    # print(new_value)\n",
    "    fibonacci_array.append(new_value)\n",
    "    # print(fibonacci_array)"
   ]
  },
  {
   "cell_type": "code",
   "execution_count": 395,
   "metadata": {},
   "outputs": [
    {
     "data": {
      "text/plain": [
       "34"
      ]
     },
     "execution_count": 395,
     "metadata": {},
     "output_type": "execute_result"
    }
   ],
   "source": [
    "fibonacci_array[9]"
   ]
  },
  {
   "cell_type": "markdown",
   "metadata": {},
   "source": [
    "## keep only the odd numbers from a list"
   ]
  },
  {
   "cell_type": "code",
   "execution_count": 420,
   "metadata": {},
   "outputs": [],
   "source": [
    "original_list = [1,2,3,4,5,6,7,8,9,10,11,12]\n",
    "\n",
    "def keep_odd(n):\n",
    "    new = n/2\n",
    "    if n//2 == n/2:\n",
    "        return n"
   ]
  },
  {
   "cell_type": "code",
   "execution_count": 423,
   "metadata": {},
   "outputs": [],
   "source": [
    "new_list = []\n",
    "for n  in original_list:\n",
    "    if keep_odd(n):\n",
    "        new_list.append(keep_odd(n))"
   ]
  },
  {
   "cell_type": "code",
   "execution_count": 424,
   "metadata": {},
   "outputs": [
    {
     "data": {
      "text/plain": [
       "[2, 4, 6, 8, 10, 12]"
      ]
     },
     "execution_count": 424,
     "metadata": {},
     "output_type": "execute_result"
    }
   ],
   "source": [
    "new_list"
   ]
  },
  {
   "cell_type": "markdown",
   "metadata": {},
   "source": [
    "# Question #1 - FizzBuzz"
   ]
  },
  {
   "cell_type": "code",
   "execution_count": 68,
   "metadata": {},
   "outputs": [],
   "source": [
    "def FizzBuzz(n):\n",
    "    string_array = []\n",
    "    for i in range(1,n):\n",
    "        if i%3==0 and i%5==0:\n",
    "            string_array.append('FizzBuzz')\n",
    "            print('both')\n",
    "        elif i%5==0:\n",
    "            string_array.append('Buzz')\n",
    "            print(\"5\")\n",
    "        elif i%3==0 :\n",
    "            string_array.append('Fizz')\n",
    "            print(\"3\")\n",
    "        else :\n",
    "            string_array.append(i)\n",
    "    return string_array"
   ]
  },
  {
   "cell_type": "code",
   "execution_count": 69,
   "metadata": {},
   "outputs": [
    {
     "name": "stdout",
     "output_type": "stream",
     "text": [
      "3\n",
      "5\n",
      "3\n",
      "3\n",
      "5\n",
      "3\n",
      "both\n"
     ]
    },
    {
     "data": {
      "text/plain": [
       "[1,\n",
       " 2,\n",
       " 'Fizz',\n",
       " 4,\n",
       " 'Buzz',\n",
       " 'Fizz',\n",
       " 7,\n",
       " 8,\n",
       " 'Fizz',\n",
       " 'Buzz',\n",
       " 11,\n",
       " 'Fizz',\n",
       " 13,\n",
       " 14,\n",
       " 'FizzBuzz']"
      ]
     },
     "execution_count": 69,
     "metadata": {},
     "output_type": "execute_result"
    }
   ],
   "source": [
    "FizzBuzz(16)"
   ]
  },
  {
   "cell_type": "markdown",
   "metadata": {},
   "source": [
    "# Question #2 - Reverse an Integer\n",
    "Problem description: Given a signed (positive or negative) integer x, return x with its digits reversed. The input integer x must be in range [-2^31, 2^31 - 1] - return 0 if it isn’t."
   ]
  },
  {
   "cell_type": "code",
   "execution_count": 145,
   "metadata": {},
   "outputs": [
    {
     "name": "stdout",
     "output_type": "stream",
     "text": [
      "3 0\n",
      "[]\n",
      "2 0\n",
      "[]\n",
      "1 2\n",
      "['2']\n",
      "0 1\n",
      "['2', '1']\n"
     ]
    }
   ],
   "source": [
    "n = -1200\n",
    "if n<0:\n",
    "    n = n*-1\n",
    "result = 21\n",
    "\n",
    "# step 1, number to string\n",
    "ns = str(n)\n",
    "# string lengh\n",
    "ns_len = len(str(n))\n",
    "# create a list \n",
    "n_list = []\n",
    "\n",
    "for i in range(0,ns_len):\n",
    "    i_ = ns_len-i-1\n",
    "    # print(i_)\n",
    "    currrent_digit = ns[i_]\n",
    "    print(str(i_),str(currrent_digit))\n",
    "    # remove if last digit is zero\n",
    "    if n%10**(i+1)>0:\n",
    "        n_list.append(ns[i_])\n",
    "    print(n_list)\n",
    "    \n"
   ]
  },
  {
   "cell_type": "markdown",
   "metadata": {},
   "source": [
    "# Question #3 - Find the First Unique Character in a String"
   ]
  },
  {
   "cell_type": "code",
   "execution_count": 240,
   "metadata": {},
   "outputs": [],
   "source": [
    "input_string = 'armarlo'\n",
    "\n",
    "dic_letters = {}\n",
    "string_len = len(input_string)\n",
    "\n",
    "# create dictionary\n",
    "for l in input_string:\n",
    "    print(l)\n",
    "    if l not in dic_letters:\n",
    "        print(\"not in\")\n",
    "        dic_letters[l] = 1\n",
    "    else:\n",
    "        print(\"in\")\n",
    "        dic_letters[l] = dic_letters[l] + 1\n",
    "\n",
    "# find the first unique character\n",
    "\n",
    "# dic_letters = {}\n",
    "for i in range(0,string_len):\n",
    "    if dic_letters[input_string[i]] ==1:\n",
    "        print('order'+ str(i) + ' value: ' + input_string[i])\n",
    "        \n",
    "    else:\n",
    "        print('next')"
   ]
  },
  {
   "cell_type": "markdown",
   "metadata": {},
   "source": [
    "# Question #4 - Defanging an IP Address"
   ]
  },
  {
   "cell_type": "code",
   "execution_count": null,
   "metadata": {},
   "outputs": [],
   "source": []
  },
  {
   "cell_type": "markdown",
   "metadata": {},
   "source": [
    "# Question #5 - Check if a String is an Anagram\n",
    "1. check if the len of the words is the same\n",
    "2. check if the words unsorted are the same, create a dictionary with the number of letters"
   ]
  },
  {
   "cell_type": "code",
   "execution_count": 288,
   "metadata": {},
   "outputs": [
    {
     "name": "stdout",
     "output_type": "stream",
     "text": [
      "k\n",
      "e\n",
      "e\n",
      "n\n",
      "k\n",
      "n\n",
      "e\n",
      "e\n"
     ]
    }
   ],
   "source": [
    "word_1 = 'Keen'\n",
    "word_1_low = word_1.lower()\n",
    "word_2 = 'Knee'\n",
    "word_2_low = word_2.lower()\n",
    "dict_1 = {}\n",
    "dict_2 = {}\n",
    "for w in word_1_low:\n",
    "    print(w)\n",
    "    if w not in dict_1:\n",
    "        dict_1[w] = 1\n",
    "    else :\n",
    "        dict_1[w] = dict_1[w] + 1\n",
    "\n",
    "for w in word_2_low:\n",
    "    print(w)\n",
    "    if w not in dict_2:\n",
    "        dict_2[w] = 1\n",
    "    else :\n",
    "        dict_2[w] = dict_2[w] + 1\n",
    "\n",
    "dict_1 == dict_2"
   ]
  },
  {
   "cell_type": "code",
   "execution_count": 296,
   "metadata": {},
   "outputs": [],
   "source": [
    "def anagram(word_1,word_2):\n",
    "    word_1_low = word_1.lower()\n",
    "    word_2_low = word_2.lower()\n",
    "    dict_1 = {}\n",
    "    dict_2 = {}\n",
    "    for w in word_1_low:\n",
    "        # print(w)\n",
    "        if w not in dict_1:\n",
    "            dict_1[w] = 1\n",
    "        else :\n",
    "            dict_1[w] = dict_1[w] + 1\n",
    "\n",
    "    for w in word_2_low:\n",
    "        # print(w)\n",
    "        if w not in dict_2:\n",
    "            dict_2[w] = 1\n",
    "        else :\n",
    "            dict_2[w] = dict_2[w] + 1\n",
    "\n",
    "    if dict_1 == dict_2:\n",
    "        print('is an anagram')\n",
    "    else:\n",
    "        print('not an anagram')"
   ]
  },
  {
   "cell_type": "code",
   "execution_count": 297,
   "metadata": {},
   "outputs": [
    {
     "name": "stdout",
     "output_type": "stream",
     "text": [
      "is an anagram\n"
     ]
    }
   ],
   "source": [
    "anagram('Keen','Knee')"
   ]
  },
  {
   "cell_type": "markdown",
   "metadata": {},
   "source": [
    "# Question #6 - Check if String is a Palindrome\n",
    "\n",
    "1. all to lower case\n",
    "2. read the string and store it in an array"
   ]
  },
  {
   "cell_type": "code",
   "execution_count": 267,
   "metadata": {},
   "outputs": [
    {
     "name": "stdout",
     "output_type": "stream",
     "text": [
      "l\n",
      "e\n",
      "v\n",
      "e\n",
      "l\n",
      "5\n",
      "4\n",
      "3\n",
      "2\n",
      "1\n",
      "palindrome found\n"
     ]
    }
   ],
   "source": [
    "input_palindrome = 'level'\n",
    "input_array = []\n",
    "for l in input_palindrome:\n",
    "    print(l)\n",
    "    input_array.append(l)\n",
    "\n",
    "# read backwards the input\n",
    "input_palindrome_len = len(input_palindrome)\n",
    "\n",
    "# create second array\n",
    "backwards_array = []\n",
    "for i in range(input_palindrome_len):\n",
    "    print(input_palindrome_len-i)\n",
    "    backwards_array.append(input_palindrome[input_palindrome_len-i-1])\n",
    "\n",
    "# compare both arrays\n",
    "if input_array == backwards_array:\n",
    "    print('palindrome found')"
   ]
  },
  {
   "cell_type": "code",
   "execution_count": 277,
   "metadata": {},
   "outputs": [],
   "source": [
    "def palindromes(input_palindrome):\n",
    "    input_array = []\n",
    "    input_palindrome = input_palindrome.lower()\n",
    "    for l in input_palindrome:\n",
    "        # print(l)\n",
    "        input_array.append(l)\n",
    "\n",
    "    # read backwards the input\n",
    "    input_palindrome_len = len(input_palindrome)\n",
    "\n",
    "    # create second array\n",
    "    backwards_array = []\n",
    "    for i in range(input_palindrome_len):\n",
    "        # print(input_palindrome_len-i)\n",
    "        backwards_array.append(input_palindrome[input_palindrome_len-i-1])\n",
    "\n",
    "    # compare both arrays\n",
    "    if input_array == backwards_array:\n",
    "        print('palindrome found')\n",
    "    else:\n",
    "        print('not palindrome')"
   ]
  },
  {
   "cell_type": "code",
   "execution_count": 278,
   "metadata": {},
   "outputs": [
    {
     "name": "stdout",
     "output_type": "stream",
     "text": [
      "palindrome found\n"
     ]
    }
   ],
   "source": [
    "palindromes('Kayak')"
   ]
  },
  {
   "cell_type": "markdown",
   "metadata": {},
   "source": [
    "# Question #7 - Calculate a Factorial Using Recursion\n",
    "\n",
    "A factorial of a number is the product of all the integers from that number to 1. For example, the factorial of 5, or 5! is 5*4*3*2*1 = 120. Factorials are not defined for negative numbers and the factorial of zero is one."
   ]
  },
  {
   "cell_type": "code",
   "execution_count": 304,
   "metadata": {},
   "outputs": [
    {
     "name": "stdout",
     "output_type": "stream",
     "text": [
      "7\n",
      "6\n",
      "5\n",
      "4\n",
      "3\n",
      "2\n",
      "1\n"
     ]
    },
    {
     "data": {
      "text/plain": [
       "5040"
      ]
     },
     "execution_count": 304,
     "metadata": {},
     "output_type": "execute_result"
    }
   ],
   "source": [
    "number = 7\n",
    "final_number = 1\n",
    "for n in range(number):\n",
    "    nn = number - n\n",
    "    final_number = final_number*nn\n",
    "    print(nn)\n",
    "\n",
    "final_number"
   ]
  },
  {
   "cell_type": "code",
   "execution_count": 310,
   "metadata": {},
   "outputs": [
    {
     "data": {
      "text/plain": [
       "6"
      ]
     },
     "execution_count": 310,
     "metadata": {},
     "output_type": "execute_result"
    }
   ],
   "source": [
    "def factorial(number):\n",
    "    if number<0:\n",
    "        final_number = -1\n",
    "    else:\n",
    "        final_number = 1\n",
    "        for n in range(number):\n",
    "            nn = number - n\n",
    "            final_number = final_number*nn\n",
    "    return final_number\n",
    "\n",
    "factorial(3)"
   ]
  },
  {
   "cell_type": "markdown",
   "metadata": {},
   "source": [
    "# remove the duplicates of a list"
   ]
  },
  {
   "cell_type": "code",
   "execution_count": 370,
   "metadata": {},
   "outputs": [],
   "source": [
    "input = ['a','b','c','c','c','d']\n"
   ]
  },
  {
   "cell_type": "code",
   "execution_count": 371,
   "metadata": {},
   "outputs": [
    {
     "name": "stdout",
     "output_type": "stream",
     "text": [
      "\n",
      "\n",
      "['c', 'c', 'd']\n",
      "removing c\n",
      "\n",
      "\n",
      "\n"
     ]
    }
   ],
   "source": [
    "input_len = len(input)\n",
    "for n in range(input_len):\n",
    "    order =  n  + 1\n",
    "    l = input[n] \n",
    "    if input[n] in input[order:]:\n",
    "        print(input[order:])\n",
    "        input.remove(l)\n",
    "        input.append('removed')\n",
    "        print('removing ' + l)\n",
    "    else:\n",
    "        print('')\n",
    "input.remove('removed')    "
   ]
  },
  {
   "cell_type": "code",
   "execution_count": 372,
   "metadata": {},
   "outputs": [
    {
     "data": {
      "text/plain": [
       "['a', 'b', 'c', 'c', 'd']"
      ]
     },
     "execution_count": 372,
     "metadata": {},
     "output_type": "execute_result"
    }
   ],
   "source": [
    "input"
   ]
  },
  {
   "cell_type": "code",
   "execution_count": 340,
   "metadata": {},
   "outputs": [
    {
     "data": {
      "text/plain": [
       "['b', 'c', 'c', 'd']"
      ]
     },
     "execution_count": 340,
     "metadata": {},
     "output_type": "execute_result"
    }
   ],
   "source": [
    "input"
   ]
  },
  {
   "cell_type": "markdown",
   "metadata": {},
   "source": [
    "# find the max of a list\n"
   ]
  },
  {
   "cell_type": "code",
   "execution_count": 313,
   "metadata": {},
   "outputs": [
    {
     "data": {
      "text/plain": [
       "9"
      ]
     },
     "execution_count": 313,
     "metadata": {},
     "output_type": "execute_result"
    }
   ],
   "source": [
    "numbers = [1,2,3,4,5,6,5,4,9,2,1]\n",
    "max(numbers)"
   ]
  },
  {
   "cell_type": "code",
   "execution_count": 373,
   "metadata": {},
   "outputs": [],
   "source": [
    "a=0\n",
    "for b in range(0,10,2):\n",
    "    a += b+1"
   ]
  },
  {
   "cell_type": "code",
   "execution_count": 376,
   "metadata": {},
   "outputs": [
    {
     "name": "stdout",
     "output_type": "stream",
     "text": [
      "0\n",
      "2\n",
      "4\n",
      "6\n",
      "8\n"
     ]
    }
   ],
   "source": [
    "for b in range(0,10,2):\n",
    "    print (b)"
   ]
  },
  {
   "cell_type": "code",
   "execution_count": 378,
   "metadata": {},
   "outputs": [
    {
     "data": {
      "text/plain": [
       "95.0"
      ]
     },
     "execution_count": 378,
     "metadata": {},
     "output_type": "execute_result"
    }
   ],
   "source": [
    "(100+90)/2.0"
   ]
  },
  {
   "cell_type": "markdown",
   "metadata": {},
   "source": [
    "# Testdome 1"
   ]
  },
  {
   "cell_type": "markdown",
   "metadata": {},
   "source": [
    "a company stores login data and passwords in two different containers:\n",
    "- DataFrame with columns: id, login, verified.\n",
    "- two-dimensional Numpy array where each elemint is an array that contains: id and password\n",
    "\n",
    "implement the function login_table that accespts these two containers and modifies id_name_verified datframe in=place so that:\n",
    "\n",
    "- the virified column should be removed\n",
    "- the password from numpy should be added as the last column with then name Password"
   ]
  },
  {
   "cell_type": "code",
   "execution_count": 379,
   "metadata": {},
   "outputs": [
    {
     "name": "stdout",
     "output_type": "stream",
     "text": [
      "   Id        Login  Verified\n",
      "0   1      JohnDoe      True\n",
      "1   2  AnnFranklin     False\n"
     ]
    }
   ],
   "source": [
    "import pandas as pd\n",
    "import numpy as np\n",
    "\n",
    "def login_table(id_name_verified, id_password):\n",
    "    \"\"\"\n",
    "    :param id_name_verified: (DataFrame) DataFrame with columns: Id, Login, Verified.   \n",
    "    :param id_password: (numpy.array) Two-dimensional NumPy array where each element\n",
    "                        is an array that contains: Id and Password\n",
    "    :returns: (None) The function should modify id_name_verified DataFrame in-place. \n",
    "              It should not return anything.\n",
    "    \"\"\"   \n",
    "    pass\n",
    "\n",
    "id_name_verified = pd.DataFrame([[1, \"JohnDoe\", True], [2, \"AnnFranklin\", False]], columns=[\"Id\", \"Login\", \"Verified\"])\n",
    "id_password = np.array([[1, 987340123], [2, 187031122]], np.int32)\n",
    "login_table(id_name_verified, id_password)\n",
    "print(id_name_verified)"
   ]
  },
  {
   "cell_type": "code",
   "execution_count": 387,
   "metadata": {},
   "outputs": [],
   "source": [
    "def login_table(id_name_verified, id_password):\n",
    "    \"\"\"\n",
    "    :param id_name_verified: (DataFrame) DataFrame with columns: Id, Login, Verified.   \n",
    "    :param id_password: (numpy.array) Two-dimensional NumPy array where each element\n",
    "                        is an array that contains: Id and Password\n",
    "    :returns: (None) The function should modify id_name_verified DataFrame in-place. \n",
    "              It should not return anything.\n",
    "    \"\"\"   \n",
    "    \n",
    "    pass_df = pd.DataFrame(id_password)\n",
    "    pass_df.columns = ['Id','Password']\n",
    "    pass_df\n",
    "\n",
    "    out_df = pd.merge(id_name_verified,\n",
    "                    pass_df,\n",
    "                    how='inner',\n",
    "                    left_on='Id',\n",
    "                    right_on='Id')\n",
    "    return out_df[['Id','Login','Password']]"
   ]
  },
  {
   "cell_type": "code",
   "execution_count": 388,
   "metadata": {},
   "outputs": [
    {
     "data": {
      "text/html": [
       "<div>\n",
       "<style scoped>\n",
       "    .dataframe tbody tr th:only-of-type {\n",
       "        vertical-align: middle;\n",
       "    }\n",
       "\n",
       "    .dataframe tbody tr th {\n",
       "        vertical-align: top;\n",
       "    }\n",
       "\n",
       "    .dataframe thead th {\n",
       "        text-align: right;\n",
       "    }\n",
       "</style>\n",
       "<table border=\"1\" class=\"dataframe\">\n",
       "  <thead>\n",
       "    <tr style=\"text-align: right;\">\n",
       "      <th></th>\n",
       "      <th>Id</th>\n",
       "      <th>Login</th>\n",
       "      <th>Password</th>\n",
       "    </tr>\n",
       "  </thead>\n",
       "  <tbody>\n",
       "    <tr>\n",
       "      <th>0</th>\n",
       "      <td>1</td>\n",
       "      <td>JohnDoe</td>\n",
       "      <td>987340123</td>\n",
       "    </tr>\n",
       "    <tr>\n",
       "      <th>1</th>\n",
       "      <td>2</td>\n",
       "      <td>AnnFranklin</td>\n",
       "      <td>187031122</td>\n",
       "    </tr>\n",
       "  </tbody>\n",
       "</table>\n",
       "</div>"
      ],
      "text/plain": [
       "   Id        Login   Password\n",
       "0   1      JohnDoe  987340123\n",
       "1   2  AnnFranklin  187031122"
      ]
     },
     "execution_count": 388,
     "metadata": {},
     "output_type": "execute_result"
    }
   ],
   "source": [
    "login_table(id_name_verified, id_password)"
   ]
  },
  {
   "cell_type": "markdown",
   "metadata": {},
   "source": []
  },
  {
   "cell_type": "code",
   "execution_count": null,
   "metadata": {},
   "outputs": [],
   "source": []
  }
 ],
 "metadata": {
  "kernelspec": {
   "display_name": "Python 3",
   "language": "python",
   "name": "python3"
  },
  "language_info": {
   "codemirror_mode": {
    "name": "ipython",
    "version": 3
   },
   "file_extension": ".py",
   "mimetype": "text/x-python",
   "name": "python",
   "nbconvert_exporter": "python",
   "pygments_lexer": "ipython3",
   "version": "3.9.0"
  }
 },
 "nbformat": 4,
 "nbformat_minor": 2
}
